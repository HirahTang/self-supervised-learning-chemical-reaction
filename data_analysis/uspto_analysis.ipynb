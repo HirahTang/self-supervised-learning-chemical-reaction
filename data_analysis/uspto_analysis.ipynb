{
 "cells": [
  {
   "cell_type": "code",
   "execution_count": 2,
   "metadata": {},
   "outputs": [],
   "source": [
    "import pickle\n",
    "from USPTO_CONFIG import USPTO_CONFIG\n",
    "import pandas as pd\n",
    "from rdkit import Chem\n",
    "import matplotlib.pyplot as plt\n",
    "import numpy as np\n",
    "from tqdm import tqdm\n",
    "from rdkit import RDLogger\n",
    "RDLogger.DisableLog('rdApp.*')"
   ]
  },
  {
   "cell_type": "code",
   "execution_count": 3,
   "metadata": {},
   "outputs": [],
   "source": [
    "with open(USPTO_CONFIG.reactant_dict, 'rb') as handle:\n",
    "    reactant_dict = pickle.load(handle)\n",
    "\n",
    "with open(USPTO_CONFIG.full_dict, 'rb') as handle:\n",
    "    full_dict = pickle.load(handle)"
   ]
  },
  {
   "cell_type": "code",
   "execution_count": 4,
   "metadata": {},
   "outputs": [
    {
     "name": "stdout",
     "output_type": "stream",
     "text": [
      "Number of distinct molecules in reactants:692559\n",
      "Number of distinct molecules in reactants+products:1260895\n"
     ]
    }
   ],
   "source": [
    "print(\"Number of distinct molecules in reactants:{}\\nNumber of distinct molecules in reactants+products:{}\".format(len(reactant_dict), len(full_dict)))"
   ]
  },
  {
   "cell_type": "code",
   "execution_count": 5,
   "metadata": {},
   "outputs": [],
   "source": [
    "def dict_process(reactant_dict, full_dict):\n",
    "    reactant_df = pd.DataFrame(data=reactant_dict)\n",
    "    reactant_df = reactant_df.transpose()\n",
    "\n",
    "    full_df = pd.DataFrame(data=full_dict)\n",
    "    full_df = full_df.transpose()\n",
    "\n",
    "    return reactant_df, full_df"
   ]
  },
  {
   "cell_type": "code",
   "execution_count": 6,
   "metadata": {},
   "outputs": [],
   "source": [
    "reactant_df, full_df = dict_process(reactant_dict, full_dict)"
   ]
  },
  {
   "cell_type": "code",
   "execution_count": 7,
   "metadata": {},
   "outputs": [],
   "source": [
    "reactant_df = reactant_df.rename_axis('inchi').reset_index()\n",
    "full_df = full_df.rename_axis('inchi').reset_index()"
   ]
  },
  {
   "cell_type": "code",
   "execution_count": 1,
   "metadata": {},
   "outputs": [
    {
     "ename": "NameError",
     "evalue": "name 'plt' is not defined",
     "output_type": "error",
     "traceback": [
      "\u001b[0;31m---------------------------------------------------------------------------\u001b[0m",
      "\u001b[0;31mNameError\u001b[0m                                 Traceback (most recent call last)",
      "\u001b[1;32m/sharefs/sharefs-hantang/Chemical_Reaction_Pretraining/data_analysis/uspto_analysis.ipynb Cell 7\u001b[0m in \u001b[0;36m<cell line: 1>\u001b[0;34m()\u001b[0m\n\u001b[0;32m----> <a href='vscode-notebook-cell://ssh-remote%2Bssh.platform.wudaoai.cn/sharefs/sharefs-hantang/Chemical_Reaction_Pretraining/data_analysis/uspto_analysis.ipynb#W6sdnNjb2RlLXJlbW90ZQ%3D%3D?line=0'>1</a>\u001b[0m plt\u001b[39m.\u001b[39mhist(reactant_df[\u001b[39m'\u001b[39m\u001b[39mcount\u001b[39m\u001b[39m'\u001b[39m], bins\u001b[39m=\u001b[39m\u001b[39m40\u001b[39m)\n\u001b[1;32m      <a href='vscode-notebook-cell://ssh-remote%2Bssh.platform.wudaoai.cn/sharefs/sharefs-hantang/Chemical_Reaction_Pretraining/data_analysis/uspto_analysis.ipynb#W6sdnNjb2RlLXJlbW90ZQ%3D%3D?line=1'>2</a>\u001b[0m plt\u001b[39m.\u001b[39mtitle(\u001b[39m\"\u001b[39m\u001b[39mReactants appearance frequency distribtuion in USPTO\u001b[39m\u001b[39m\"\u001b[39m)\n\u001b[1;32m      <a href='vscode-notebook-cell://ssh-remote%2Bssh.platform.wudaoai.cn/sharefs/sharefs-hantang/Chemical_Reaction_Pretraining/data_analysis/uspto_analysis.ipynb#W6sdnNjb2RlLXJlbW90ZQ%3D%3D?line=2'>3</a>\u001b[0m plt\u001b[39m.\u001b[39mshow()\n",
      "\u001b[0;31mNameError\u001b[0m: name 'plt' is not defined"
     ]
    }
   ],
   "source": [
    "\n",
    "plt.hist(reactant_df['count'], bins=40)\n",
    "plt.title(\"Reactants appearance frequency distribtuion in USPTO\")\n",
    "plt.show()\n",
    "\n",
    "plt.hist(reactant_df[reactant_df['count'] < 10]['count'], bins=40)\n",
    "plt.title(\"Reactants appearance frequency < 10 distribtuion in USPTO\")\n",
    "plt.show()\n",
    "\n",
    "plt.hist(reactant_df[(reactant_df['count'] > 10) & (reactant_df['count'] < 100)]['count'], bins=40)\n",
    "plt.title(\"Reactants appearance frequency > 10 & < 100 distribtuion in USPTO\")\n",
    "plt.show()\n",
    "\n",
    "plt.hist(reactant_df[(reactant_df['count'] > 100) & (reactant_df['count'] < 2000)]['count'], bins=40)\n",
    "plt.title(\"Reactants appearance frequency > 100 & < 2000 distribtuion in USPTO\")\n",
    "plt.show()\n",
    "\n",
    "plt.hist(reactant_df[(reactant_df['count'] > 2000) & (reactant_df['count'] < 10000)]['count'], bins=40)\n",
    "plt.title(\"Reactants appearance frequency > 2000 & < 10000 distribtuion in USPTO\")\n",
    "plt.show()\n",
    "\n",
    "plt.hist(reactant_df[reactant_df['count'] > 10000]['count'], bins=40)\n",
    "plt.title(\"Reactants appearance frequency > 10000 distribtuion in USPTO\")\n",
    "plt.show()\n",
    "\n",
    "plt.hist(reactant_df['atoms'], bins=40)\n",
    "plt.title(\"Size distribution for reactants molecules in USPTO\")\n",
    "plt.show()"
   ]
  },
  {
   "cell_type": "code",
   "execution_count": 9,
   "metadata": {},
   "outputs": [
    {
     "data": {
      "image/png": "[encoded data removed]",
      "text/plain": [
       "<Figure size 432x288 with 1 Axes>"
      ]
     },
     "metadata": {
      "needs_background": "light"
     },
     "output_type": "display_data"
    },
    {
     "data": {
      "image/png": "[encoded data removed]",
      "text/plain": [
       "<Figure size 432x288 with 1 Axes>"
      ]
     },
     "metadata": {
      "needs_background": "light"
     },
     "output_type": "display_data"
    }
   ],
   "source": [
    "\n",
    "plt.hist(full_df['count'], bins=40)\n",
    "plt.title(\"Molecule appearance frequency distribtuion in USPTO\")\n",
    "plt.show()\n",
    "\n",
    "plt.hist(full_df['atoms'], bins=40)\n",
    "plt.title(\"Size distribution for all molecules in USPTO\")\n",
    "plt.show()"
   ]
  },
  {
   "cell_type": "code",
   "execution_count": 10,
   "metadata": {},
   "outputs": [
    {
     "data": {
      "text/html": [
       "<div>\n",
       "<style scoped>\n",
       "    .dataframe tbody tr th:only-of-type {\n",
       "        vertical-align: middle;\n",
       "    }\n",
       "\n",
       "    .dataframe tbody tr th {\n",
       "        vertical-align: top;\n",
       "    }\n",
       "\n",
       "    .dataframe thead th {\n",
       "        text-align: right;\n",
       "    }\n",
       "</style>\n",
       "<table border=\"1\" class=\"dataframe\">\n",
       "  <thead>\n",
       "    <tr style=\"text-align: right;\">\n",
       "      <th></th>\n",
       "      <th>count</th>\n",
       "      <th>atoms</th>\n",
       "    </tr>\n",
       "  </thead>\n",
       "  <tbody>\n",
       "    <tr>\n",
       "      <th>count</th>\n",
       "      <td>692559.000000</td>\n",
       "      <td>692559.000000</td>\n",
       "    </tr>\n",
       "    <tr>\n",
       "      <th>mean</th>\n",
       "      <td>9.786950</td>\n",
       "      <td>23.445758</td>\n",
       "    </tr>\n",
       "    <tr>\n",
       "      <th>std</th>\n",
       "      <td>775.331692</td>\n",
       "      <td>10.144402</td>\n",
       "    </tr>\n",
       "    <tr>\n",
       "      <th>min</th>\n",
       "      <td>1.000000</td>\n",
       "      <td>1.000000</td>\n",
       "    </tr>\n",
       "    <tr>\n",
       "      <th>25%</th>\n",
       "      <td>1.000000</td>\n",
       "      <td>16.000000</td>\n",
       "    </tr>\n",
       "    <tr>\n",
       "      <th>50%</th>\n",
       "      <td>2.000000</td>\n",
       "      <td>22.000000</td>\n",
       "    </tr>\n",
       "    <tr>\n",
       "      <th>75%</th>\n",
       "      <td>3.000000</td>\n",
       "      <td>29.000000</td>\n",
       "    </tr>\n",
       "    <tr>\n",
       "      <th>max</th>\n",
       "      <td>381370.000000</td>\n",
       "      <td>547.000000</td>\n",
       "    </tr>\n",
       "  </tbody>\n",
       "</table>\n",
       "</div>"
      ],
      "text/plain": [
       "               count          atoms\n",
       "count  692559.000000  692559.000000\n",
       "mean        9.786950      23.445758\n",
       "std       775.331692      10.144402\n",
       "min         1.000000       1.000000\n",
       "25%         1.000000      16.000000\n",
       "50%         2.000000      22.000000\n",
       "75%         3.000000      29.000000\n",
       "max    381370.000000     547.000000"
      ]
     },
     "execution_count": 10,
     "metadata": {},
     "output_type": "execute_result"
    }
   ],
   "source": [
    "reactant_df[['count', 'atoms']].describe()"
   ]
  },
  {
   "cell_type": "code",
   "execution_count": 11,
   "metadata": {},
   "outputs": [
    {
     "data": {
      "text/html": [
       "<div>\n",
       "<style scoped>\n",
       "    .dataframe tbody tr th:only-of-type {\n",
       "        vertical-align: middle;\n",
       "    }\n",
       "\n",
       "    .dataframe tbody tr th {\n",
       "        vertical-align: top;\n",
       "    }\n",
       "\n",
       "    .dataframe thead th {\n",
       "        text-align: right;\n",
       "    }\n",
       "</style>\n",
       "<table border=\"1\" class=\"dataframe\">\n",
       "  <thead>\n",
       "    <tr style=\"text-align: right;\">\n",
       "      <th></th>\n",
       "      <th>count</th>\n",
       "      <th>atoms</th>\n",
       "    </tr>\n",
       "  </thead>\n",
       "  <tbody>\n",
       "    <tr>\n",
       "      <th>count</th>\n",
       "      <td>1.260895e+06</td>\n",
       "      <td>1.260895e+06</td>\n",
       "    </tr>\n",
       "    <tr>\n",
       "      <th>mean</th>\n",
       "      <td>7.022154e+00</td>\n",
       "      <td>2.567368e+01</td>\n",
       "    </tr>\n",
       "    <tr>\n",
       "      <th>std</th>\n",
       "      <td>6.016513e+02</td>\n",
       "      <td>1.007612e+01</td>\n",
       "    </tr>\n",
       "    <tr>\n",
       "      <th>min</th>\n",
       "      <td>1.000000e+00</td>\n",
       "      <td>1.000000e+00</td>\n",
       "    </tr>\n",
       "    <tr>\n",
       "      <th>25%</th>\n",
       "      <td>1.000000e+00</td>\n",
       "      <td>1.800000e+01</td>\n",
       "    </tr>\n",
       "    <tr>\n",
       "      <th>50%</th>\n",
       "      <td>2.000000e+00</td>\n",
       "      <td>2.500000e+01</td>\n",
       "    </tr>\n",
       "    <tr>\n",
       "      <th>75%</th>\n",
       "      <td>3.000000e+00</td>\n",
       "      <td>3.200000e+01</td>\n",
       "    </tr>\n",
       "    <tr>\n",
       "      <th>max</th>\n",
       "      <td>3.859490e+05</td>\n",
       "      <td>5.470000e+02</td>\n",
       "    </tr>\n",
       "  </tbody>\n",
       "</table>\n",
       "</div>"
      ],
      "text/plain": [
       "              count         atoms\n",
       "count  1.260895e+06  1.260895e+06\n",
       "mean   7.022154e+00  2.567368e+01\n",
       "std    6.016513e+02  1.007612e+01\n",
       "min    1.000000e+00  1.000000e+00\n",
       "25%    1.000000e+00  1.800000e+01\n",
       "50%    2.000000e+00  2.500000e+01\n",
       "75%    3.000000e+00  3.200000e+01\n",
       "max    3.859490e+05  5.470000e+02"
      ]
     },
     "execution_count": 11,
     "metadata": {},
     "output_type": "execute_result"
    }
   ],
   "source": [
    "full_df[['count', 'atoms']].describe()"
   ]
  },
  {
   "cell_type": "code",
   "execution_count": 9,
   "metadata": {},
   "outputs": [],
   "source": [
    "reactant_df.to_csv(USPTO_CONFIG.reactant_df, index=False)\n",
    "full_df.to_csv(USPTO_CONFIG.full_df, index=False)"
   ]
  },
  {
   "cell_type": "markdown",
   "metadata": {},
   "source": [
    "## Masking Ratio Analysis"
   ]
  },
  {
   "cell_type": "code",
   "execution_count": 5,
   "metadata": {},
   "outputs": [],
   "source": [
    "with open(USPTO_CONFIG.reaction_centre, 'rb') as handle:\n",
    "    mask_analysis = pickle.load(handle)"
   ]
  },
  {
   "cell_type": "code",
   "execution_count": 6,
   "metadata": {},
   "outputs": [
    {
     "name": "stdout",
     "output_type": "stream",
     "text": [
      "Reaction Involved: 1107901\n"
     ]
    }
   ],
   "source": [
    "print(\"Reaction Involved:\", len(mask_analysis))\n",
    "mol_dict = {}\n",
    "reaction_ratio = []\n",
    "one_hop_r = []\n",
    "two_hop_r = []\n",
    "three_hop_r = []"
   ]
  },
  {
   "cell_type": "code",
   "execution_count": 7,
   "metadata": {},
   "outputs": [
    {
     "name": "stderr",
     "output_type": "stream",
     "text": [
      "100%|██████████| 1107901/1107901 [11:54<00:00, 1550.19it/s]\n"
     ]
    }
   ],
   "source": [
    "for reac_name, mol_list in tqdm(list(mask_analysis.items())):\n",
    "    for mol_smiles, center in mol_list.items():\n",
    "        mol = Chem.MolFromSmiles(mol_smiles)\n",
    "        inchi = Chem.MolToInchi(mol)\n",
    "        # print(center)\n",
    "        hash = ''.join([str(i) for i in sorted(center['reaction_centre'])])\n",
    "        # if hash == \"\":\n",
    "        #     print(reac_name,\"\\n\", mol_smiles, \"\\n\")\n",
    "        #     print(center)\n",
    "        if inchi in mol_dict:\n",
    "            mol_dict[inchi].add(hash)\n",
    "        else:\n",
    "            mol_dict[inchi] = {hash}\n",
    "\n",
    "        atom_num = mol.GetNumAtoms()\n",
    "        reaction_ratio.append(len(center['reaction_centre']) / atom_num)\n",
    "        one_hop_r.append(len(center['one_hop']) / atom_num)\n",
    "        two_hop_r.append(len(center['two_hop']) / atom_num)\n",
    "        three_hop_r.append(len(center['three_hop']) / atom_num)\n",
    "        "
   ]
  },
  {
   "cell_type": "code",
   "execution_count": 8,
   "metadata": {},
   "outputs": [],
   "source": [
    "reaction_center_uni_count = [len(rcenter) for rcenter in mol_dict.values()]"
   ]
  },
  {
   "cell_type": "code",
   "execution_count": 120,
   "metadata": {},
   "outputs": [],
   "source": [
    "big_ones = [(inchi, rcenter) for inchi, rcenter in mol_dict.items() if len(rcenter) > 1]"
   ]
  },
  {
   "cell_type": "code",
   "execution_count": 121,
   "metadata": {},
   "outputs": [
    {
     "data": {
      "text/plain": [
       "89072"
      ]
     },
     "execution_count": 121,
     "metadata": {},
     "output_type": "execute_result"
    }
   ],
   "source": [
    "len(big_ones)"
   ]
  },
  {
   "cell_type": "code",
   "execution_count": 126,
   "metadata": {},
   "outputs": [
    {
     "data": {
      "text/plain": [
       "('InChI=1S/C2H5ClO/c1-4-2-3/h2H2,1H3',\n",
       " {'0', '01', '02', '023', '03', '1', '12', '2', '23', '3'})"
      ]
     },
     "execution_count": 126,
     "metadata": {},
     "output_type": "execute_result"
    }
   ],
   "source": [
    "big_ones[100]"
   ]
  },
  {
   "cell_type": "code",
   "execution_count": 127,
   "metadata": {},
   "outputs": [
    {
     "data": {
      "image/png": "[encoded data removed]",
      "text/plain": [
       "<rdkit.Chem.rdchem.Mol at 0x7fbd40140660>"
      ]
     },
     "execution_count": 127,
     "metadata": {},
     "output_type": "execute_result"
    }
   ],
   "source": [
    "Chem.MolFromInchi(big_ones[100][0])"
   ]
  },
  {
   "cell_type": "code",
   "execution_count": 12,
   "metadata": {},
   "outputs": [
    {
     "name": "stdout",
     "output_type": "stream",
     "text": [
      "Unique Reaction Center Count:\n",
      "                   0\n",
      "count  676478.000000\n",
      "mean        1.256039\n",
      "std         1.325701\n",
      "min         1.000000\n",
      "25%         1.000000\n",
      "50%         1.000000\n",
      "75%         1.000000\n",
      "max       263.000000\n"
     ]
    },
    {
     "data": {
      "image/png": "[encoded data removed]",
      "text/plain": [
       "<Figure size 720x360 with 1 Axes>"
      ]
     },
     "metadata": {
      "needs_background": "light"
     },
     "output_type": "display_data"
    },
    {
     "data": {
      "image/png": "[encoded data removed]",
      "text/plain": [
       "<Figure size 720x360 with 1 Axes>"
      ]
     },
     "metadata": {
      "needs_background": "light"
     },
     "output_type": "display_data"
    },
    {
     "data": {
      "image/png": "[encoded data removed]",
      "text/plain": [
       "<Figure size 720x360 with 1 Axes>"
      ]
     },
     "metadata": {
      "needs_background": "light"
     },
     "output_type": "display_data"
    }
   ],
   "source": [
    "print(\"Unique Reaction Center Count:\")\n",
    "print(pd.DataFrame(reaction_center_uni_count).describe())\n",
    "plt.rcParams[\"figure.figsize\"] = (10, 5)\n",
    "plt.hist(reaction_center_uni_count, bins = 40)\n",
    "plt.show()\n",
    "\n",
    "plt.rcParams[\"figure.figsize\"] = (10, 5)\n",
    "plt.hist([i for i in reaction_center_uni_count if i > 1 and i <= 20], bins = 40)\n",
    "plt.show()\n",
    "\n",
    "plt.rcParams[\"figure.figsize\"] = (10, 5)\n",
    "plt.hist([i for i in reaction_center_uni_count if i > 20], bins = 40)\n",
    "plt.show()"
   ]
  },
  {
   "cell_type": "code",
   "execution_count": 82,
   "metadata": {},
   "outputs": [
    {
     "name": "stdout",
     "output_type": "stream",
     "text": [
      "Reaction Center Masking Ratio :\n",
      "                  0\n",
      "count  1.910931e+06\n",
      "mean   1.257218e-01\n",
      "std    1.403078e-01\n",
      "min    0.000000e+00\n",
      "25%    4.761905e-02\n",
      "50%    8.333333e-02\n",
      "75%    1.428571e-01\n",
      "max    1.000000e+00\n"
     ]
    }
   ],
   "source": [
    "print(\"Reaction Center Masking Ratio :\")\n",
    "print(pd.DataFrame(reaction_ratio).describe())\n"
   ]
  },
  {
   "cell_type": "code",
   "execution_count": 83,
   "metadata": {},
   "outputs": [
    {
     "name": "stdout",
     "output_type": "stream",
     "text": [
      "Reaction Center w/ 1-hop neighbours Masking Ratio :\n",
      "                  0\n",
      "count  1.910931e+06\n",
      "mean   3.050438e-01\n",
      "std    2.500344e-01\n",
      "min    0.000000e+00\n",
      "25%    1.379310e-01\n",
      "50%    2.352941e-01\n",
      "75%    4.000000e-01\n",
      "max    1.000000e+00\n"
     ]
    }
   ],
   "source": [
    "print(\"Reaction Center w/ 1-hop neighbours Masking Ratio :\")\n",
    "print(pd.DataFrame(one_hop_r).describe())\n"
   ]
  },
  {
   "cell_type": "code",
   "execution_count": 84,
   "metadata": {},
   "outputs": [
    {
     "name": "stdout",
     "output_type": "stream",
     "text": [
      "Reaction Center w/ 2-hop neighbours Masking Ratio :\n",
      "                  0\n",
      "count  1.910931e+06\n",
      "mean   4.576759e-01\n",
      "std    2.980482e-01\n",
      "min    0.000000e+00\n",
      "25%    2.380952e-01\n",
      "50%    4.000000e-01\n",
      "75%    6.551724e-01\n",
      "max    1.000000e+00\n"
     ]
    }
   ],
   "source": [
    "print(\"Reaction Center w/ 2-hop neighbours Masking Ratio :\")\n",
    "print(pd.DataFrame(two_hop_r).describe())"
   ]
  },
  {
   "cell_type": "code",
   "execution_count": 85,
   "metadata": {},
   "outputs": [
    {
     "name": "stdout",
     "output_type": "stream",
     "text": [
      "Reaction Center w/ 3-hop neighbours Masking Ratio :\n",
      "                  0\n",
      "count  1.910931e+06\n",
      "mean   5.833626e-01\n",
      "std    3.197674e-01\n",
      "min    0.000000e+00\n",
      "25%    3.478261e-01\n",
      "50%    5.833333e-01\n",
      "75%    8.888889e-01\n",
      "max    1.000000e+00\n"
     ]
    }
   ],
   "source": [
    "print(\"Reaction Center w/ 3-hop neighbours Masking Ratio :\")\n",
    "print(pd.DataFrame(three_hop_r).describe())\n"
   ]
  },
  {
   "cell_type": "code",
   "execution_count": 129,
   "metadata": {},
   "outputs": [
    {
     "data": {
      "image/png": "[encoded data removed]",
      "text/plain": [
       "<Figure size 720x1080 with 4 Axes>"
      ]
     },
     "metadata": {
      "needs_background": "light"
     },
     "output_type": "display_data"
    }
   ],
   "source": [
    "plt.rcParams[\"figure.figsize\"] = (10, 15)\n",
    "fig, (ax1, ax2, ax3, ax4) = plt.subplots(4, 1)\n",
    "ax1.hist(reaction_ratio, bins = 40)\n",
    "ax1.set_ylabel(\"reaction centre\")\n",
    "ax2.hist(one_hop_r, bins = 40)\n",
    "ax2.set_ylabel(\"1-hop\")\n",
    "ax3.hist(two_hop_r, bins = 40)\n",
    "ax3.set_ylabel(\"2-hop\")\n",
    "ax4.hist(three_hop_r, bins = 40)\n",
    "ax4.set_ylabel(\"3-hop\")\n",
    "plt.show()"
   ]
  }
 ],
 "metadata": {
  "kernelspec": {
   "display_name": "Python 3.8.13 ('mol3d')",
   "language": "python",
   "name": "python3"
  },
  "language_info": {
   "codemirror_mode": {
    "name": "ipython",
    "version": 3
   },
   "file_extension": ".py",
   "mimetype": "text/x-python",
   "name": "python",
   "nbconvert_exporter": "python",
   "pygments_lexer": "ipython3",
   "version": "3.8.13"
  },
  "orig_nbformat": 4,
  "vscode": {
   "interpreter": {
    "hash": "52a17554667fcca8cacb19ad7c4b18fedcf5e42c02ae193df933dd75a53d4e65"
   }
  }
 },
 "nbformat": 4,
 "nbformat_minor": 2
}
